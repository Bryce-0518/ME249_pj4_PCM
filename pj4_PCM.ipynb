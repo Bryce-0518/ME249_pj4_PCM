{
 "cells": [
  {
   "cell_type": "code",
   "execution_count": 3,
   "metadata": {},
   "outputs": [],
   "source": [
    "import Model_Func as mf"
   ]
  },
  {
   "cell_type": "code",
   "execution_count": 11,
   "metadata": {},
   "outputs": [],
   "source": [
    "import pandas as pd\n",
    "Setup_dic = {\n",
    "        'Number_of_neurons':[10, 16, 20, 12, 2],\n",
    "        'Activation_Func':['relu','relu','relu','relu','relu'],\n",
    "        'Dropout':[0.0, 0.05, 0.05, 0.05, 0]\n",
    "}\n",
    "Setup_dic_pd = pd.DataFrame(Setup_dic)"
   ]
  },
  {
   "cell_type": "code",
   "execution_count": 21,
   "metadata": {},
   "outputs": [
    {
     "name": "stdout",
     "output_type": "stream",
     "text": [
      "   Number_of_neurons Activation_Func  Dropout\n",
      "0                 10            relu     0.00\n",
      "1                 16            relu     0.05\n",
      "2                 20            relu     0.05\n",
      "3                 12            relu     0.05\n",
      "4                  2            relu     0.00\n"
     ]
    }
   ],
   "source": [
    "for i in range(len(Setup_dic['Dropout'])):\n",
    "    print(Setup_dic['Number_of_neurons'][i])\n",
    "    print(Setup_dic['Activation_Func'][i])\n",
    "    print(Setup_dic['Dropout'][i])"
   ]
  },
  {
   "cell_type": "code",
   "execution_count": 25,
   "metadata": {},
   "outputs": [
    {
     "ename": "NameError",
     "evalue": "name 'pandas' is not defined",
     "output_type": "error",
     "traceback": [
      "\u001b[0;31m---------------------------------------------------------------------------\u001b[0m",
      "\u001b[0;31mNameError\u001b[0m                                 Traceback (most recent call last)",
      "\u001b[0;32m<ipython-input-25-609b6d5922fb>\u001b[0m in \u001b[0;36m<module>\u001b[0;34m\u001b[0m\n\u001b[0;32m----> 1\u001b[0;31m \u001b[0mpandas\u001b[0m\u001b[0;34m\u001b[0m\u001b[0;34m\u001b[0m\u001b[0m\n\u001b[0m",
      "\u001b[0;31mNameError\u001b[0m: name 'pandas' is not defined"
     ]
    }
   ],
   "source": [
    "pandas"
   ]
  },
  {
   "cell_type": "code",
   "execution_count": null,
   "metadata": {},
   "outputs": [],
   "source": []
  }
 ],
 "metadata": {
  "kernelspec": {
   "display_name": "Python 3",
   "language": "python",
   "name": "python3"
  },
  "language_info": {
   "codemirror_mode": {
    "name": "ipython",
    "version": 3
   },
   "file_extension": ".py",
   "mimetype": "text/x-python",
   "name": "python",
   "nbconvert_exporter": "python",
   "pygments_lexer": "ipython3",
   "version": "3.8.5"
  }
 },
 "nbformat": 4,
 "nbformat_minor": 4
}
